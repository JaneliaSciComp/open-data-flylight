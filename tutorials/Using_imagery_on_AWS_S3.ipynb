{
 "cells": [
  {
   "cell_type": "markdown",
   "metadata": {},
   "source": [
    "# Using imagery on AWS S3 with Python"
   ]
  },
  {
   "cell_type": "markdown",
   "metadata": {},
   "source": [
    "The [boto3](https://boto3.amazonaws.com/v1/documentation/api/latest/index.html) library allows access to a client, which is a lower-level API to the Amazon Web Services. Here we'll use it to download a file from S3 into memory. First, we create a client, request a download, then access the content."
   ]
  },
  {
   "cell_type": "code",
   "execution_count": null,
   "metadata": {},
   "outputs": [],
   "source": [
    "import boto3\n",
    "KEY = \"JRC2018_Unisex_20x_HR/FlyLight_Gen1_GAL4/R10C09-20090919_08_fA01b_20090919091328496-GAL4-f-20x-brain-JRC2018_Unisex_20x_HR-CDM_1.png\"\n",
    "S3_CLIENT = boto3.client('s3')\n",
    "s3_response_object = S3_CLIENT.get_object(Bucket=\"janelia-flylight-color-depth\",\n",
    "                                          Key=KEY)\n",
    "object_content = s3_response_object['Body'].read()"
   ]
  },
  {
   "cell_type": "markdown",
   "metadata": {},
   "source": [
    "We now have the file contents in memory. The file is an image, so we can use [Pillow](https://pillow.readthedocs.io/en/stable/) (a fork of the older Python Imaging Library) to convert it to an **Image** object:"
   ]
  },
  {
   "cell_type": "code",
   "execution_count": null,
   "metadata": {},
   "outputs": [],
   "source": [
    "from PIL import Image, ImageEnhance\n",
    "from io import BytesIO\n",
    "dataBytesIO = BytesIO(object_content)\n",
    "img = Image.open(dataBytesIO)\n",
    "img"
   ]
  },
  {
   "cell_type": "markdown",
   "metadata": {},
   "source": [
    "Once we have the image in memory as a PIL **[Image](https://pillow.readthedocs.io/en/stable/reference/Image.html)** object, we can modify it. Let's resize it to 50% of its original size:"
   ]
  },
  {
   "cell_type": "code",
   "execution_count": null,
   "metadata": {},
   "outputs": [],
   "source": [
    "width, height = img.size\n",
    "img.resize((int(width / 2), int(height / 2)))"
   ]
  },
  {
   "cell_type": "markdown",
   "metadata": {},
   "source": [
    "Let's look at a file from the janelia-flylight-imagery bucket (we'll resize it so it's a little easier to work with):"
   ]
  },
  {
   "cell_type": "code",
   "execution_count": null,
   "metadata": {},
   "outputs": [],
   "source": [
    "KEY = \"Aso 2021/LH2448/LH2448-20140409_32_B5-f-20x-brain-Split_GAL4-signals_mip.png\"\n",
    "s3_response_object = S3_CLIENT.get_object(Bucket=\"janelia-flylight-imagery\",\n",
    "                                          Key=KEY)\n",
    "object_content = s3_response_object['Body'].read()\n",
    "dataBytesIO = BytesIO(object_content)\n",
    "img = Image.open(dataBytesIO)\n",
    "width, height = img.size\n",
    "img = img.resize((int(width / 2), int(height / 2)))\n",
    "img"
   ]
  },
  {
   "cell_type": "markdown",
   "metadata": {},
   "source": [
    "This is an unaligned signal channel MIP. Let's use the [ImageEnhance](https://pillow.readthedocs.io/en/stable/reference/ImageEnhance.html) module to adjust the contrast:"
   ]
  },
  {
   "cell_type": "code",
   "execution_count": null,
   "metadata": {},
   "outputs": [],
   "source": [
    "enhancer = ImageEnhance.Contrast(img)\n",
    "img = enhancer.enhance(1.8)\n",
    "img"
   ]
  },
  {
   "cell_type": "markdown",
   "metadata": {},
   "source": [
    "We now have a contrast-adjusted PNG file in memory. Let's save it out as a JPEG:"
   ]
  },
  {
   "cell_type": "code",
   "execution_count": null,
   "metadata": {},
   "outputs": [],
   "source": [
    "outfile = \"/tmp/adjusted.jpg\"\n",
    "try:\n",
    "    img.save(outfile, \"JPEG\")\n",
    "except IOError:\n",
    "    print(\"cannot create save\", outfile)"
   ]
  },
  {
   "cell_type": "markdown",
   "metadata": {},
   "source": [
    "...and reload it to display it:"
   ]
  },
  {
   "cell_type": "code",
   "execution_count": null,
   "metadata": {},
   "outputs": [],
   "source": [
    "from IPython.display import Image\n",
    "Image(filename=outfile)"
   ]
  },
  {
   "cell_type": "code",
   "execution_count": null,
   "metadata": {},
   "outputs": [],
   "source": []
  }
 ],
 "metadata": {
  "kernelspec": {
   "display_name": "Python 3",
   "language": "python",
   "name": "python3"
  },
  "language_info": {
   "codemirror_mode": {
    "name": "ipython",
    "version": 3
   },
   "file_extension": ".py",
   "mimetype": "text/x-python",
   "name": "python",
   "nbconvert_exporter": "python",
   "pygments_lexer": "ipython3",
   "version": "3.8.1"
  }
 },
 "nbformat": 4,
 "nbformat_minor": 4
}
