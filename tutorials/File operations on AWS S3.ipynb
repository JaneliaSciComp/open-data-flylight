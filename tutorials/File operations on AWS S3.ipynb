{
 "cells": [
  {
   "cell_type": "markdown",
   "metadata": {},
   "source": [
    "# File operations on AWS S3 with Python"
   ]
  },
  {
   "cell_type": "markdown",
   "metadata": {},
   "source": [
    "There are several ways to access files on Amazon Web Services S3 where the FlyLight imagery, color depth MIPs, and templates are stored. A simple way is to use the [boto3](https://boto3.amazonaws.com/v1/documentation/api/latest/index.html) library:"
   ]
  },
  {
   "cell_type": "code",
   "execution_count": 36,
   "metadata": {},
   "outputs": [],
   "source": [
    "import boto3"
   ]
  },
  {
   "cell_type": "markdown",
   "metadata": {},
   "source": [
    "S3 stores files (called *objects*) in *buckets*. With boto3, it's easy to access an S3 bucket:"
   ]
  },
  {
   "cell_type": "code",
   "execution_count": 37,
   "metadata": {},
   "outputs": [],
   "source": [
    "S3_RESOURCE = boto3.resource('s3')\n",
    "bucket = S3_RESOURCE.Bucket(\"janelia-flylight-templates\")"
   ]
  },
  {
   "cell_type": "markdown",
   "metadata": {},
   "source": [
    "The resource we're creating above uses a high level API that gives us access to Amazon Web Services. Using the resource, we create a bucket object."
   ]
  },
  {
   "cell_type": "markdown",
   "metadata": {},
   "source": [
    "## Listing the contents of a bucket"
   ]
  },
  {
   "cell_type": "code",
   "execution_count": 38,
   "metadata": {},
   "outputs": [
    {
     "name": "stdout",
     "output_type": "stream",
     "text": [
      "JRC2018_FEMALE_20x_HR/\n",
      "JRC2018_FEMALE_20x_HR/JRC2018_FEMALE_20x_HR.nrrd\n",
      "JRC2018_FEMALE_20x_gen1/\n",
      "JRC2018_FEMALE_20x_gen1/JRC2018_FEMALE_20x_gen1.nrrd\n",
      "JRC2018_FEMALE_63x_DS/\n",
      "JRC2018_FEMALE_63x_DS/JRC2018_FEMALE_38um_iso.nrrd\n",
      "JRC2018_FEMALE_VNC_63x/\n",
      "JRC2018_FEMALE_VNC_63x/JRC2018_VNC_FEMALE_63x.nrrd\n",
      "JRC2018_MALE_20x_HR/\n",
      "JRC2018_MALE_20x_HR/JRC2018_MALE_20xHR.nrrd\n",
      "JRC2018_MALE_63x_DS/\n",
      "JRC2018_MALE_63x_DS/JRC2018_MALE_38um_iso.nrrd\n",
      "JRC2018_Unisex_20x_HR/\n",
      "JRC2018_Unisex_20x_HR/JRC2018_UNISEX_20x_HR.nrrd\n",
      "JRC2018_Unisex_VNC_63x/\n",
      "JRC2018_Unisex_VNC_63x/JRC2018_VNC_UNISEX_63x.nrrd\n",
      "JRC2018_VNC_FEMALE/\n",
      "JRC2018_VNC_FEMALE/JRC2018_VNC_FEMALE_461.nrrd\n",
      "JRC2018_VNC_MALE/\n",
      "JRC2018_VNC_MALE/JRC2018_VNC_MALE_461.nrrd\n",
      "JRC2018_VNC_Unisex/\n",
      "JRC2018_VNC_Unisex/JRC2018_VNC_UNISEX_461.nrrd\n",
      "README.md\n"
     ]
    }
   ],
   "source": [
    "for obj in bucket.objects.all():\n",
    "    print(obj.key)"
   ]
  },
  {
   "cell_type": "markdown",
   "metadata": {},
   "source": [
    "In the listing, you'll see what looks like folders or directories, and then files in those directories. Although S3 will show objects in a bucket with directories, there actually are none - storage in a bucket is flat, rather than heirarcical (more information [here](https://docs.aws.amazon.com/AmazonS3/latest/user-guide/using-folders.html))."
   ]
  },
  {
   "cell_type": "markdown",
   "metadata": {},
   "source": [
    "## Accessing individual files"
   ]
  },
  {
   "cell_type": "markdown",
   "metadata": {},
   "source": [
    "Let's look at one of the objects from the FlyLight_Gen1_GAL4 color depth MIP collection - a thumbnail of the original image. Objects are referred to with *keys*:"
   ]
  },
  {
   "cell_type": "code",
   "execution_count": 39,
   "metadata": {},
   "outputs": [
    {
     "name": "stdout",
     "output_type": "stream",
     "text": [
      "s3.Object(bucket_name='janelia-flylight-color-depth-thumbnails', key='JRC2018_Unisex_20x_HR/FlyLight_Gen1_GAL4/R10A01-20080306_00_fA01b_20080311004901281-GAL4-f-20x-brain-JRC2018_Unisex_20x_HR-CDM_1.jpg')\n"
     ]
    }
   ],
   "source": [
    "bucket = S3_RESOURCE.Bucket(\"janelia-flylight-color-depth-thumbnails\")\n",
    "KEY = \"JRC2018_Unisex_20x_HR/FlyLight_Gen1_GAL4/R10A01-20080306_00_fA01b_20080311004901281-GAL4-f-20x-brain-JRC2018_Unisex_20x_HR-CDM_1.jpg\"\n",
    "obj = bucket.Object(KEY)\n",
    "print(obj)"
   ]
  },
  {
   "cell_type": "markdown",
   "metadata": {},
   "source": [
    "As you can see above, the object (an [S3 Object](https://boto3.amazonaws.com/v1/documentation/api/latest/reference/services/s3.html#S3.Object)) stores the bucket name and key. Let's get a few attributes:"
   ]
  },
  {
   "cell_type": "code",
   "execution_count": 40,
   "metadata": {
    "scrolled": true
   },
   "outputs": [
    {
     "name": "stdout",
     "output_type": "stream",
     "text": [
      "File type is image/jpeg and the size is 15581 bytes\n"
     ]
    }
   ],
   "source": [
    "print(\"File type is %s and the size is %d bytes\" % (obj.content_type, obj.content_length))"
   ]
  },
  {
   "cell_type": "markdown",
   "metadata": {},
   "source": [
    "## Downloading a file"
   ]
  },
  {
   "cell_type": "markdown",
   "metadata": {},
   "source": [
    "We can easily download a file from a bucket using the [download_file](https://boto3.amazonaws.com/v1/documentation/api/latest/reference/services/s3.html#S3.Bucket.download_file) method:"
   ]
  },
  {
   "cell_type": "code",
   "execution_count": 41,
   "metadata": {},
   "outputs": [],
   "source": [
    "bucket.download_file(KEY, '/tmp/demo_file.jpg')"
   ]
  },
  {
   "cell_type": "markdown",
   "metadata": {},
   "source": [
    "The image was downloaded to */tmp/demo_file.png*. Let's display it:"
   ]
  },
  {
   "cell_type": "code",
   "execution_count": 42,
   "metadata": {},
   "outputs": [
    {
     "data": {
      "image/jpeg": "[encoded data removed]",
      "text/plain": [
       "<IPython.core.display.Image object>"
      ]
     },
     "execution_count": 42,
     "metadata": {},
     "output_type": "execute_result"
    }
   ],
   "source": [
    "from IPython.display import Image\n",
    "Image(filename='/tmp/demo_file.jpg')"
   ]
  }
 ],
 "metadata": {
  "kernelspec": {
   "display_name": "Python 3",
   "language": "python",
   "name": "python3"
  },
  "language_info": {
   "codemirror_mode": {
    "name": "ipython",
    "version": 3
   },
   "file_extension": ".py",
   "mimetype": "text/x-python",
   "name": "python",
   "nbconvert_exporter": "python",
   "pygments_lexer": "ipython3",
   "version": "3.8.1"
  }
 },
 "nbformat": 4,
 "nbformat_minor": 4
}
